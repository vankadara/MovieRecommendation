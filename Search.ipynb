{
 "cells": [
  {
   "cell_type": "code",
   "execution_count": 1,
   "metadata": {
    "collapsed": true,
    "deletable": true,
    "editable": true
   },
   "outputs": [],
   "source": [
    "import numpy as np\n",
    "import pandas as pd"
   ]
  },
  {
   "cell_type": "code",
   "execution_count": 2,
   "metadata": {
    "collapsed": false,
    "deletable": true,
    "editable": true
   },
   "outputs": [
    {
     "name": "stderr",
     "output_type": "stream",
     "text": [
      "C:\\Users\\Shiva Prasad Reddy\\AppData\\Local\\Enthought\\Canopy\\edm\\envs\\User\\lib\\site-packages\\IPython\\core\\interactiveshell.py:2717: DtypeWarning: Columns (10) have mixed types. Specify dtype option on import or set low_memory=False.\n",
      "  interactivity=interactivity, compiler=compiler, result=result)\n"
     ]
    }
   ],
   "source": [
    "df = pd.read_csv('movies_metadata.csv')"
   ]
  },
  {
   "cell_type": "code",
   "execution_count": 3,
   "metadata": {
    "collapsed": false,
    "deletable": true,
    "editable": true
   },
   "outputs": [
    {
     "data": {
      "text/html": [
       "<div>\n",
       "<style>\n",
       "    .dataframe thead tr:only-child th {\n",
       "        text-align: right;\n",
       "    }\n",
       "\n",
       "    .dataframe thead th {\n",
       "        text-align: left;\n",
       "    }\n",
       "\n",
       "    .dataframe tbody tr th {\n",
       "        vertical-align: top;\n",
       "    }\n",
       "</style>\n",
       "<table border=\"1\" class=\"dataframe\">\n",
       "  <thead>\n",
       "    <tr style=\"text-align: right;\">\n",
       "      <th></th>\n",
       "      <th>adult</th>\n",
       "      <th>belongs_to_collection</th>\n",
       "      <th>budget</th>\n",
       "      <th>genres</th>\n",
       "      <th>homepage</th>\n",
       "      <th>id</th>\n",
       "      <th>imdb_id</th>\n",
       "      <th>original_language</th>\n",
       "      <th>original_title</th>\n",
       "      <th>overview</th>\n",
       "      <th>...</th>\n",
       "      <th>release_date</th>\n",
       "      <th>revenue</th>\n",
       "      <th>runtime</th>\n",
       "      <th>spoken_languages</th>\n",
       "      <th>status</th>\n",
       "      <th>tagline</th>\n",
       "      <th>title</th>\n",
       "      <th>video</th>\n",
       "      <th>vote_average</th>\n",
       "      <th>vote_count</th>\n",
       "    </tr>\n",
       "  </thead>\n",
       "  <tbody>\n",
       "    <tr>\n",
       "      <th>0</th>\n",
       "      <td>False</td>\n",
       "      <td>{'id': 10194, 'name': 'Toy Story Collection', ...</td>\n",
       "      <td>30000000</td>\n",
       "      <td>[{'id': 16, 'name': 'Animation'}, {'id': 35, '...</td>\n",
       "      <td>http://toystory.disney.com/toy-story</td>\n",
       "      <td>862</td>\n",
       "      <td>tt0114709</td>\n",
       "      <td>en</td>\n",
       "      <td>Toy Story</td>\n",
       "      <td>Led by Woody, Andy's toys live happily in his ...</td>\n",
       "      <td>...</td>\n",
       "      <td>1995-10-30</td>\n",
       "      <td>373554033.0</td>\n",
       "      <td>81.0</td>\n",
       "      <td>[{'iso_639_1': 'en', 'name': 'English'}]</td>\n",
       "      <td>Released</td>\n",
       "      <td>NaN</td>\n",
       "      <td>Toy Story</td>\n",
       "      <td>False</td>\n",
       "      <td>7.7</td>\n",
       "      <td>5415.0</td>\n",
       "    </tr>\n",
       "    <tr>\n",
       "      <th>1</th>\n",
       "      <td>False</td>\n",
       "      <td>NaN</td>\n",
       "      <td>65000000</td>\n",
       "      <td>[{'id': 12, 'name': 'Adventure'}, {'id': 14, '...</td>\n",
       "      <td>NaN</td>\n",
       "      <td>8844</td>\n",
       "      <td>tt0113497</td>\n",
       "      <td>en</td>\n",
       "      <td>Jumanji</td>\n",
       "      <td>When siblings Judy and Peter discover an encha...</td>\n",
       "      <td>...</td>\n",
       "      <td>1995-12-15</td>\n",
       "      <td>262797249.0</td>\n",
       "      <td>104.0</td>\n",
       "      <td>[{'iso_639_1': 'en', 'name': 'English'}, {'iso...</td>\n",
       "      <td>Released</td>\n",
       "      <td>Roll the dice and unleash the excitement!</td>\n",
       "      <td>Jumanji</td>\n",
       "      <td>False</td>\n",
       "      <td>6.9</td>\n",
       "      <td>2413.0</td>\n",
       "    </tr>\n",
       "    <tr>\n",
       "      <th>2</th>\n",
       "      <td>False</td>\n",
       "      <td>{'id': 119050, 'name': 'Grumpy Old Men Collect...</td>\n",
       "      <td>0</td>\n",
       "      <td>[{'id': 10749, 'name': 'Romance'}, {'id': 35, ...</td>\n",
       "      <td>NaN</td>\n",
       "      <td>15602</td>\n",
       "      <td>tt0113228</td>\n",
       "      <td>en</td>\n",
       "      <td>Grumpier Old Men</td>\n",
       "      <td>A family wedding reignites the ancient feud be...</td>\n",
       "      <td>...</td>\n",
       "      <td>1995-12-22</td>\n",
       "      <td>0.0</td>\n",
       "      <td>101.0</td>\n",
       "      <td>[{'iso_639_1': 'en', 'name': 'English'}]</td>\n",
       "      <td>Released</td>\n",
       "      <td>Still Yelling. Still Fighting. Still Ready for...</td>\n",
       "      <td>Grumpier Old Men</td>\n",
       "      <td>False</td>\n",
       "      <td>6.5</td>\n",
       "      <td>92.0</td>\n",
       "    </tr>\n",
       "    <tr>\n",
       "      <th>3</th>\n",
       "      <td>False</td>\n",
       "      <td>NaN</td>\n",
       "      <td>16000000</td>\n",
       "      <td>[{'id': 35, 'name': 'Comedy'}, {'id': 18, 'nam...</td>\n",
       "      <td>NaN</td>\n",
       "      <td>31357</td>\n",
       "      <td>tt0114885</td>\n",
       "      <td>en</td>\n",
       "      <td>Waiting to Exhale</td>\n",
       "      <td>Cheated on, mistreated and stepped on, the wom...</td>\n",
       "      <td>...</td>\n",
       "      <td>1995-12-22</td>\n",
       "      <td>81452156.0</td>\n",
       "      <td>127.0</td>\n",
       "      <td>[{'iso_639_1': 'en', 'name': 'English'}]</td>\n",
       "      <td>Released</td>\n",
       "      <td>Friends are the people who let you be yourself...</td>\n",
       "      <td>Waiting to Exhale</td>\n",
       "      <td>False</td>\n",
       "      <td>6.1</td>\n",
       "      <td>34.0</td>\n",
       "    </tr>\n",
       "    <tr>\n",
       "      <th>4</th>\n",
       "      <td>False</td>\n",
       "      <td>{'id': 96871, 'name': 'Father of the Bride Col...</td>\n",
       "      <td>0</td>\n",
       "      <td>[{'id': 35, 'name': 'Comedy'}]</td>\n",
       "      <td>NaN</td>\n",
       "      <td>11862</td>\n",
       "      <td>tt0113041</td>\n",
       "      <td>en</td>\n",
       "      <td>Father of the Bride Part II</td>\n",
       "      <td>Just when George Banks has recovered from his ...</td>\n",
       "      <td>...</td>\n",
       "      <td>1995-02-10</td>\n",
       "      <td>76578911.0</td>\n",
       "      <td>106.0</td>\n",
       "      <td>[{'iso_639_1': 'en', 'name': 'English'}]</td>\n",
       "      <td>Released</td>\n",
       "      <td>Just When His World Is Back To Normal... He's ...</td>\n",
       "      <td>Father of the Bride Part II</td>\n",
       "      <td>False</td>\n",
       "      <td>5.7</td>\n",
       "      <td>173.0</td>\n",
       "    </tr>\n",
       "  </tbody>\n",
       "</table>\n",
       "<p>5 rows × 24 columns</p>\n",
       "</div>"
      ],
      "text/plain": [
       "   adult                              belongs_to_collection    budget  \\\n",
       "0  False  {'id': 10194, 'name': 'Toy Story Collection', ...  30000000   \n",
       "1  False                                                NaN  65000000   \n",
       "2  False  {'id': 119050, 'name': 'Grumpy Old Men Collect...         0   \n",
       "3  False                                                NaN  16000000   \n",
       "4  False  {'id': 96871, 'name': 'Father of the Bride Col...         0   \n",
       "\n",
       "                                              genres  \\\n",
       "0  [{'id': 16, 'name': 'Animation'}, {'id': 35, '...   \n",
       "1  [{'id': 12, 'name': 'Adventure'}, {'id': 14, '...   \n",
       "2  [{'id': 10749, 'name': 'Romance'}, {'id': 35, ...   \n",
       "3  [{'id': 35, 'name': 'Comedy'}, {'id': 18, 'nam...   \n",
       "4                     [{'id': 35, 'name': 'Comedy'}]   \n",
       "\n",
       "                               homepage     id    imdb_id original_language  \\\n",
       "0  http://toystory.disney.com/toy-story    862  tt0114709                en   \n",
       "1                                   NaN   8844  tt0113497                en   \n",
       "2                                   NaN  15602  tt0113228                en   \n",
       "3                                   NaN  31357  tt0114885                en   \n",
       "4                                   NaN  11862  tt0113041                en   \n",
       "\n",
       "                original_title  \\\n",
       "0                    Toy Story   \n",
       "1                      Jumanji   \n",
       "2             Grumpier Old Men   \n",
       "3            Waiting to Exhale   \n",
       "4  Father of the Bride Part II   \n",
       "\n",
       "                                            overview    ...     release_date  \\\n",
       "0  Led by Woody, Andy's toys live happily in his ...    ...       1995-10-30   \n",
       "1  When siblings Judy and Peter discover an encha...    ...       1995-12-15   \n",
       "2  A family wedding reignites the ancient feud be...    ...       1995-12-22   \n",
       "3  Cheated on, mistreated and stepped on, the wom...    ...       1995-12-22   \n",
       "4  Just when George Banks has recovered from his ...    ...       1995-02-10   \n",
       "\n",
       "       revenue runtime                                   spoken_languages  \\\n",
       "0  373554033.0    81.0           [{'iso_639_1': 'en', 'name': 'English'}]   \n",
       "1  262797249.0   104.0  [{'iso_639_1': 'en', 'name': 'English'}, {'iso...   \n",
       "2          0.0   101.0           [{'iso_639_1': 'en', 'name': 'English'}]   \n",
       "3   81452156.0   127.0           [{'iso_639_1': 'en', 'name': 'English'}]   \n",
       "4   76578911.0   106.0           [{'iso_639_1': 'en', 'name': 'English'}]   \n",
       "\n",
       "     status                                            tagline  \\\n",
       "0  Released                                                NaN   \n",
       "1  Released          Roll the dice and unleash the excitement!   \n",
       "2  Released  Still Yelling. Still Fighting. Still Ready for...   \n",
       "3  Released  Friends are the people who let you be yourself...   \n",
       "4  Released  Just When His World Is Back To Normal... He's ...   \n",
       "\n",
       "                         title  video vote_average vote_count  \n",
       "0                    Toy Story  False          7.7     5415.0  \n",
       "1                      Jumanji  False          6.9     2413.0  \n",
       "2             Grumpier Old Men  False          6.5       92.0  \n",
       "3            Waiting to Exhale  False          6.1       34.0  \n",
       "4  Father of the Bride Part II  False          5.7      173.0  \n",
       "\n",
       "[5 rows x 24 columns]"
      ]
     },
     "execution_count": 3,
     "metadata": {},
     "output_type": "execute_result"
    }
   ],
   "source": [
    "df.head()"
   ]
  },
  {
   "cell_type": "code",
   "execution_count": 4,
   "metadata": {
    "collapsed": false,
    "deletable": true,
    "editable": true
   },
   "outputs": [
    {
     "data": {
      "text/plain": [
       "count                  44512\n",
       "unique                 44307\n",
       "top       No overview found.\n",
       "freq                     133\n",
       "Name: overview, dtype: object"
      ]
     },
     "execution_count": 4,
     "metadata": {},
     "output_type": "execute_result"
    }
   ],
   "source": [
    "df['overview'].describe()"
   ]
  },
  {
   "cell_type": "code",
   "execution_count": 5,
   "metadata": {
    "collapsed": true,
    "deletable": true,
    "editable": true
   },
   "outputs": [],
   "source": [
    "df['overview'] = df['overview'].fillna(\"\")"
   ]
  },
  {
   "cell_type": "code",
   "execution_count": 6,
   "metadata": {
    "collapsed": false,
    "deletable": true,
    "editable": true
   },
   "outputs": [
    {
     "data": {
      "text/plain": [
       "count     45466\n",
       "unique    44308\n",
       "top            \n",
       "freq        954\n",
       "Name: overview, dtype: object"
      ]
     },
     "execution_count": 6,
     "metadata": {},
     "output_type": "execute_result"
    }
   ],
   "source": [
    "df['overview'].describe()"
   ]
  },
  {
   "cell_type": "code",
   "execution_count": 7,
   "metadata": {
    "collapsed": false,
    "deletable": true,
    "editable": true
   },
   "outputs": [
    {
     "data": {
      "text/plain": [
       "count                      20412\n",
       "unique                     20283\n",
       "top       Based on a true story.\n",
       "freq                           7\n",
       "Name: tagline, dtype: object"
      ]
     },
     "execution_count": 7,
     "metadata": {},
     "output_type": "execute_result"
    }
   ],
   "source": [
    "df['tagline'].describe()"
   ]
  },
  {
   "cell_type": "code",
   "execution_count": 8,
   "metadata": {
    "collapsed": true,
    "deletable": true,
    "editable": true
   },
   "outputs": [],
   "source": [
    "df['tagline'] = df['tagline'].fillna(\"\")"
   ]
  },
  {
   "cell_type": "code",
   "execution_count": 9,
   "metadata": {
    "collapsed": false,
    "deletable": true,
    "editable": true
   },
   "outputs": [
    {
     "data": {
      "text/plain": [
       "count     45466\n",
       "unique    20284\n",
       "top            \n",
       "freq      25054\n",
       "Name: tagline, dtype: object"
      ]
     },
     "execution_count": 9,
     "metadata": {},
     "output_type": "execute_result"
    }
   ],
   "source": [
    "df['tagline'].describe()"
   ]
  },
  {
   "cell_type": "code",
   "execution_count": 10,
   "metadata": {
    "collapsed": false,
    "deletable": true,
    "editable": true
   },
   "outputs": [
    {
     "data": {
      "text/plain": [
       "0                                                         \n",
       "1                Roll the dice and unleash the excitement!\n",
       "2        Still Yelling. Still Fighting. Still Ready for...\n",
       "3        Friends are the people who let you be yourself...\n",
       "4        Just When His World Is Back To Normal... He's ...\n",
       "5                                 A Los Angeles Crime Saga\n",
       "6        You are cordially invited to the most surprisi...\n",
       "7                                   The Original Bad Boys.\n",
       "8                               Terror goes into overtime.\n",
       "9                     No limits. No fears. No substitutes.\n",
       "10       Why can't the most powerful man in the world h...\n",
       "11                                                        \n",
       "12                          Part Dog. Part Wolf. All Hero.\n",
       "13       Triumphant in Victory, Bitter in Defeat. He Ch...\n",
       "14       The Course Has Been Set. There Is No Turning B...\n",
       "15                        No one stays at the top forever.\n",
       "16                Lose your heart and come to your senses.\n",
       "17       Twelve outrageous guests. Four scandalous requ...\n",
       "18                 New animals. New adventures. Same hair.\n",
       "19                             Get on, or GET OUT THE WAY!\n",
       "20       The mob is tough, but it’s nothing like show b...\n",
       "21       One man is copying the most notorious killers ...\n",
       "22       In the shadows of life, In the business of dea...\n",
       "23       An extraordinary encounter with another human ...\n",
       "24                          I Love You... The Way You Are.\n",
       "25                         Envy, greed, jealousy and love.\n",
       "26       In every woman there is the girl she left behind.\n",
       "27                                                        \n",
       "28               Where happily ever after is just a dream.\n",
       "29       In 1930's Shanghai violence was not the proble...\n",
       "                               ...                        \n",
       "45436                                       Action, Horror\n",
       "45437                 The Heart Wants What The Heart Wants\n",
       "45438                          The movie about Andre Hazes\n",
       "45439                 RAPTUROUS BEAUTY!...FURY OF A BEAST!\n",
       "45440                                                     \n",
       "45441                              Too Cool For The Rules!\n",
       "45442                                                     \n",
       "45443                                                     \n",
       "45444                                                     \n",
       "45445                                                     \n",
       "45446                                                     \n",
       "45447                                                     \n",
       "45448                                                     \n",
       "45449                   Celebrate Lumpy's First Halloween.\n",
       "45450                                                     \n",
       "45451                                                     \n",
       "45452                                                     \n",
       "45453                                                     \n",
       "45454                            What happened last night?\n",
       "45455                                                     \n",
       "45456                                  Meet...The CREEPER!\n",
       "45457                                                     \n",
       "45458    Do you know what happened 50 years before \"The...\n",
       "45459                                                     \n",
       "45460                                                     \n",
       "45461           Rising and falling between a man and woman\n",
       "45462                                                     \n",
       "45463                               A deadly game of wits.\n",
       "45464                                                     \n",
       "45465                                                     \n",
       "Name: tagline, Length: 45466, dtype: object"
      ]
     },
     "execution_count": 10,
     "metadata": {},
     "output_type": "execute_result"
    }
   ],
   "source": [
    "df['tagline']"
   ]
  },
  {
   "cell_type": "code",
   "execution_count": 11,
   "metadata": {
    "collapsed": false,
    "deletable": true,
    "editable": true
   },
   "outputs": [
    {
     "data": {
      "text/plain": [
       "0        [{'id': 16, 'name': 'Animation'}, {'id': 35, '...\n",
       "1        [{'id': 12, 'name': 'Adventure'}, {'id': 14, '...\n",
       "2        [{'id': 10749, 'name': 'Romance'}, {'id': 35, ...\n",
       "3        [{'id': 35, 'name': 'Comedy'}, {'id': 18, 'nam...\n",
       "4                           [{'id': 35, 'name': 'Comedy'}]\n",
       "5        [{'id': 28, 'name': 'Action'}, {'id': 80, 'nam...\n",
       "6        [{'id': 35, 'name': 'Comedy'}, {'id': 10749, '...\n",
       "7        [{'id': 28, 'name': 'Action'}, {'id': 12, 'nam...\n",
       "8        [{'id': 28, 'name': 'Action'}, {'id': 12, 'nam...\n",
       "9        [{'id': 12, 'name': 'Adventure'}, {'id': 28, '...\n",
       "10       [{'id': 35, 'name': 'Comedy'}, {'id': 18, 'nam...\n",
       "11       [{'id': 35, 'name': 'Comedy'}, {'id': 27, 'nam...\n",
       "12       [{'id': 10751, 'name': 'Family'}, {'id': 16, '...\n",
       "13       [{'id': 36, 'name': 'History'}, {'id': 18, 'na...\n",
       "14       [{'id': 28, 'name': 'Action'}, {'id': 12, 'nam...\n",
       "15       [{'id': 18, 'name': 'Drama'}, {'id': 80, 'name...\n",
       "16       [{'id': 18, 'name': 'Drama'}, {'id': 10749, 'n...\n",
       "17       [{'id': 80, 'name': 'Crime'}, {'id': 35, 'name...\n",
       "18       [{'id': 80, 'name': 'Crime'}, {'id': 35, 'name...\n",
       "19       [{'id': 28, 'name': 'Action'}, {'id': 35, 'nam...\n",
       "20       [{'id': 35, 'name': 'Comedy'}, {'id': 53, 'nam...\n",
       "21       [{'id': 18, 'name': 'Drama'}, {'id': 53, 'name...\n",
       "22       [{'id': 28, 'name': 'Action'}, {'id': 12, 'nam...\n",
       "23       [{'id': 18, 'name': 'Drama'}, {'id': 14, 'name...\n",
       "24       [{'id': 18, 'name': 'Drama'}, {'id': 10749, 'n...\n",
       "25                           [{'id': 18, 'name': 'Drama'}]\n",
       "26       [{'id': 35, 'name': 'Comedy'}, {'id': 18, 'nam...\n",
       "27       [{'id': 18, 'name': 'Drama'}, {'id': 10749, 'n...\n",
       "28       [{'id': 14, 'name': 'Fantasy'}, {'id': 878, 'n...\n",
       "29       [{'id': 18, 'name': 'Drama'}, {'id': 80, 'name...\n",
       "                               ...                        \n",
       "45436    [{'id': 28, 'name': 'Action'}, {'id': 9648, 'n...\n",
       "45437    [{'id': 10751, 'name': 'Family'}, {'id': 16, '...\n",
       "45438                        [{'id': 18, 'name': 'Drama'}]\n",
       "45439    [{'id': 18, 'name': 'Drama'}, {'id': 14, 'name...\n",
       "45440    [{'id': 18, 'name': 'Drama'}, {'id': 10751, 'n...\n",
       "45441                       [{'id': 35, 'name': 'Comedy'}]\n",
       "45442                                                   []\n",
       "45443    [{'id': 35, 'name': 'Comedy'}, {'id': 14, 'nam...\n",
       "45444                      [{'id': 14, 'name': 'Fantasy'}]\n",
       "45445    [{'id': 14, 'name': 'Fantasy'}, {'id': 35, 'na...\n",
       "45446    [{'id': 14, 'name': 'Fantasy'}, {'id': 35, 'na...\n",
       "45447                                                   []\n",
       "45448                                                   []\n",
       "45449    [{'id': 16, 'name': 'Animation'}, {'id': 10751...\n",
       "45450    [{'id': 14, 'name': 'Fantasy'}, {'id': 28, 'na...\n",
       "45451    [{'id': 35, 'name': 'Comedy'}, {'id': 14, 'nam...\n",
       "45452                  [{'id': 99, 'name': 'Documentary'}]\n",
       "45453    [{'id': 80, 'name': 'Crime'}, {'id': 18, 'name...\n",
       "45454    [{'id': 35, 'name': 'Comedy'}, {'id': 18, 'nam...\n",
       "45455                                                   []\n",
       "45456    [{'id': 27, 'name': 'Horror'}, {'id': 9648, 'n...\n",
       "45457    [{'id': 9648, 'name': 'Mystery'}, {'id': 27, '...\n",
       "45458                       [{'id': 27, 'name': 'Horror'}]\n",
       "45459             [{'id': 878, 'name': 'Science Fiction'}]\n",
       "45460    [{'id': 18, 'name': 'Drama'}, {'id': 28, 'name...\n",
       "45461    [{'id': 18, 'name': 'Drama'}, {'id': 10751, 'n...\n",
       "45462                        [{'id': 18, 'name': 'Drama'}]\n",
       "45463    [{'id': 28, 'name': 'Action'}, {'id': 18, 'nam...\n",
       "45464                                                   []\n",
       "45465                                                   []\n",
       "Name: genres, Length: 45466, dtype: object"
      ]
     },
     "execution_count": 11,
     "metadata": {},
     "output_type": "execute_result"
    }
   ],
   "source": [
    "df['genres']"
   ]
  },
  {
   "cell_type": "code",
   "execution_count": 12,
   "metadata": {
    "collapsed": false,
    "deletable": true,
    "editable": true
   },
   "outputs": [],
   "source": [
    "def extract_genres(data):\n",
    "    genres_list = []\n",
    "    for row in data:\n",
    "        genres_list.append(row['name'])\n",
    "    return genres_list"
   ]
  },
  {
   "cell_type": "code",
   "execution_count": 13,
   "metadata": {
    "collapsed": false,
    "deletable": true,
    "editable": true
   },
   "outputs": [],
   "source": [
    "from ast import literal_eval\n",
    "df['genres'] = df['genres'].apply(literal_eval)"
   ]
  },
  {
   "cell_type": "code",
   "execution_count": 14,
   "metadata": {
    "collapsed": false,
    "deletable": true,
    "editable": true
   },
   "outputs": [],
   "source": [
    "df['genres'] = df['genres'].apply(extract_genres)"
   ]
  },
  {
   "cell_type": "code",
   "execution_count": 15,
   "metadata": {
    "collapsed": false,
    "deletable": true,
    "editable": true
   },
   "outputs": [
    {
     "data": {
      "text/plain": [
       "0                        [Animation, Comedy, Family]\n",
       "1                       [Adventure, Fantasy, Family]\n",
       "2                                  [Romance, Comedy]\n",
       "3                           [Comedy, Drama, Romance]\n",
       "4                                           [Comedy]\n",
       "5                   [Action, Crime, Drama, Thriller]\n",
       "6                                  [Comedy, Romance]\n",
       "7                 [Action, Adventure, Drama, Family]\n",
       "8                      [Action, Adventure, Thriller]\n",
       "9                      [Adventure, Action, Thriller]\n",
       "10                          [Comedy, Drama, Romance]\n",
       "11                                  [Comedy, Horror]\n",
       "12                    [Family, Animation, Adventure]\n",
       "13                                  [History, Drama]\n",
       "14                               [Action, Adventure]\n",
       "15                                    [Drama, Crime]\n",
       "16                                  [Drama, Romance]\n",
       "17                                   [Crime, Comedy]\n",
       "18                        [Crime, Comedy, Adventure]\n",
       "19                           [Action, Comedy, Crime]\n",
       "20                         [Comedy, Thriller, Crime]\n",
       "21                                 [Drama, Thriller]\n",
       "22              [Action, Adventure, Crime, Thriller]\n",
       "23       [Drama, Fantasy, Science Fiction, Thriller]\n",
       "24                                  [Drama, Romance]\n",
       "25                                           [Drama]\n",
       "26                           [Comedy, Drama, Family]\n",
       "27                                  [Drama, Romance]\n",
       "28             [Fantasy, Science Fiction, Adventure]\n",
       "29                                    [Drama, Crime]\n",
       "                            ...                     \n",
       "45436            [Action, Mystery, Thriller, Horror]\n",
       "45437           [Family, Animation, Romance, Comedy]\n",
       "45438                                        [Drama]\n",
       "45439                       [Drama, Fantasy, Horror]\n",
       "45440                      [Drama, Family, TV Movie]\n",
       "45441                                       [Comedy]\n",
       "45442                                             []\n",
       "45443             [Comedy, Fantasy, Science Fiction]\n",
       "45444                                      [Fantasy]\n",
       "45445                              [Fantasy, Comedy]\n",
       "45446                              [Fantasy, Comedy]\n",
       "45447                                             []\n",
       "45448                                             []\n",
       "45449                            [Animation, Family]\n",
       "45450                    [Fantasy, Action, Thriller]\n",
       "45451                              [Comedy, Fantasy]\n",
       "45452                                  [Documentary]\n",
       "45453                       [Crime, Drama, Thriller]\n",
       "45454                                [Comedy, Drama]\n",
       "45455                                             []\n",
       "45456                    [Horror, Mystery, Thriller]\n",
       "45457                              [Mystery, Horror]\n",
       "45458                                       [Horror]\n",
       "45459                              [Science Fiction]\n",
       "45460                       [Drama, Action, Romance]\n",
       "45461                                [Drama, Family]\n",
       "45462                                        [Drama]\n",
       "45463                      [Action, Drama, Thriller]\n",
       "45464                                             []\n",
       "45465                                             []\n",
       "Name: genres, Length: 45466, dtype: object"
      ]
     },
     "execution_count": 15,
     "metadata": {},
     "output_type": "execute_result"
    }
   ],
   "source": [
    "df['genres']"
   ]
  },
  {
   "cell_type": "code",
   "execution_count": 16,
   "metadata": {
    "collapsed": false,
    "deletable": true,
    "editable": true
   },
   "outputs": [
    {
     "data": {
      "text/plain": [
       "'Scooby-Doo! WrestleMania Mystery The mystery begins when Shaggy and Scooby win tickets to \"WrestleMania\" and convince the crew to go with them to WWE City. But this city harbors a spooky secret - a ghastly Ghost Bear holds the town in his terrifying grip! To protect the coveted WWE Championship Title, the gang gets help from WWE Superstars like John Cena, Triple H, Sin Cara, Brodus Clay, AJ Lee, The Miz and Kane. Watch Scooby and the gang grapple with solving this case before it\\'s too late. Animation Comedy Family Mystery'"
      ]
     },
     "execution_count": 16,
     "metadata": {},
     "output_type": "execute_result"
    }
   ],
   "source": [
    "def text_dump(data):\n",
    "    return data['original_title'] + ' ' + data['overview'] + ' '  + data['tagline'] + ' ' .join(data['genres'])\n",
    "df['unprocesses_text_col'] = df.apply(text_dump, axis=1)\n",
    "df['unprocesses_text_col'][23455]"
   ]
  },
  {
   "cell_type": "code",
   "execution_count": 19,
   "metadata": {
    "collapsed": false,
    "deletable": true,
    "editable": true
   },
   "outputs": [
    {
     "data": {
      "text/plain": [
       "'scooby-doo! wrestlemania mystery the mystery begins when shaggy and scooby win tickets to \"wrestlemania\" and convince the crew to go with them to wwe city. but this city harbors a spooky secret - a ghastly ghost bear holds the town in his terrifying grip! to protect the coveted wwe championship title, the gang gets help from wwe superstars like john cena, triple h, sin cara, brodus clay, aj lee, the miz and kane. watch scooby and the gang grapple with solving this case before it\\'s too late. animation comedy family mystery'"
      ]
     },
     "execution_count": 19,
     "metadata": {},
     "output_type": "execute_result"
    }
   ],
   "source": [
    "from nltk.corpus import stopwords\n",
    "import re\n",
    "df.unprocesses_text_col = df.unprocesses_text_col.apply(lambda x: x.lower())\n",
    "df['unprocesses_text_col'][23455]\n"
   ]
  },
  {
   "cell_type": "code",
   "execution_count": 21,
   "metadata": {
    "collapsed": false,
    "deletable": true,
    "editable": true
   },
   "outputs": [
    {
     "data": {
      "text/plain": [
       "'scoobydoo wrestlemania mystery the mystery begins when shaggy and scooby win tickets to wrestlemania and convince the crew to go with them to wwe city but this city harbors a spooky secret  a ghastly ghost bear holds the town in his terrifying grip to protect the coveted wwe championship title the gang gets help from wwe superstars like john cena triple h sin cara brodus clay aj lee the miz and kane watch scooby and the gang grapple with solving this case before its too late animation comedy family mystery'"
      ]
     },
     "execution_count": 21,
     "metadata": {},
     "output_type": "execute_result"
    }
   ],
   "source": [
    "df['unprocesses_text_col'] = df['unprocesses_text_col'].str.replace('[^\\w\\s]','')\n",
    "df['unprocesses_text_col'][23455]\n"
   ]
  },
  {
   "cell_type": "code",
   "execution_count": 45,
   "metadata": {
    "collapsed": false,
    "deletable": true,
    "editable": true
   },
   "outputs": [
    {
     "data": {
      "text/plain": [
       "'scoobydoo wrestlemania mystery mystery begins shaggy scooby win tickets wrestlemania convince crew go wwe city city harbors spooky secret ghastly ghost bear holds town terrifying grip protect coveted wwe championship title gang gets help wwe superstars like john cena triple h sin cara brodus clay aj lee miz kane watch scooby gang grapple solving case late animation comedy family mystery'"
      ]
     },
     "execution_count": 45,
     "metadata": {},
     "output_type": "execute_result"
    }
   ],
   "source": [
    "cachedStopWords = stopwords.words(\"english\")\n",
    "\n",
    "def removeStopWords(text):\n",
    "        text = ' '.join([word for word in text.split() if word not in cachedStopWords])\n",
    "        return text\n",
    "\n",
    "df['processed_text_col'] = df['unprocesses_text_col'].apply(removeStopWords)\n",
    "df['processed_text_col'][23455]"
   ]
  },
  {
   "cell_type": "code",
   "execution_count": 46,
   "metadata": {
    "collapsed": false,
    "deletable": true,
    "editable": true
   },
   "outputs": [
    {
     "data": {
      "text/plain": [
       "'scoobydoo wrestlemania mysteri mysteri begin shaggi scoobi win ticket wrestlemania convinc crew go wwe citi citi harbor spooki secret ghast ghost bear hold town terrifi grip protect covet wwe championship titl gang get help wwe superstar like john cena tripl h sin cara brodus clay aj lee miz kane watch scoobi gang grappl solv case late anim comedi famili mysteri'"
      ]
     },
     "execution_count": 46,
     "metadata": {},
     "output_type": "execute_result"
    }
   ],
   "source": [
    "from nltk.stem.snowball import SnowballStemmer\n",
    "from nltk.tokenize import word_tokenize\n",
    "stemmer = SnowballStemmer('english')\n",
    "\n",
    "def stemmerk(text):\n",
    "    words = word_tokenize(text)\n",
    "    return ' '.join([stemmer.stem(w) for w in words])\n",
    "df['processed_text_col'] = df['processed_text_col'].apply(stemmerk)\n",
    "df['processed_text_col'][23455]\n"
   ]
  },
  {
   "cell_type": "code",
   "execution_count": null,
   "metadata": {
    "collapsed": false,
    "deletable": true,
    "editable": true
   },
   "outputs": [],
   "source": [
    "from sklearn.metrics.pairwise import cosine_similarity\n",
    "from sklearn.feature_extraction.text import CountVectorizer\n",
    "\n",
    "count = CountVectorizer()\n",
    "count_matrix = count.fit_transform(df['processed_text_col'])"
   ]
  },
  {
   "cell_type": "code",
   "execution_count": 52,
   "metadata": {
    "collapsed": false,
    "deletable": true,
    "editable": true
   },
   "outputs": [],
   "source": [
    "from sklearn.feature_extraction.text import TfidfTransformer\n",
    "\n",
    "tfidf_transformer = TfidfTransformer()\n",
    "train_tfidf = tfidf_transformer.fit_transform(count_matrix)"
   ]
  },
  {
   "cell_type": "code",
   "execution_count": 154,
   "metadata": {
    "collapsed": false,
    "deletable": true,
    "editable": true
   },
   "outputs": [],
   "source": [
    "import re\n",
    "def movieList(entry):\n",
    "    entry = entry.lower()\n",
    "    entry = re.sub(r'[^\\w\\s]','',entry)\n",
    "    entry = removeStopWords(entry)\n",
    "    entry = stemmerk(entry)\n",
    "    entry_count_matrix = count.transform([entry])\n",
    "    entry_tf_idf = tfidf_transformer.transform(entry_count_matrix)\n",
    "    similarity_score = cosine_similarity(entry_tf_idf, train_tfidf)\n",
    "    sorted_indexes = np.argsort(similarity_score).tolist()\n",
    "    return df[['original_title', 'overview']].iloc[sorted_indexes[0][-10:]]"
   ]
  },
  {
   "cell_type": "code",
   "execution_count": 160,
   "metadata": {
    "collapsed": false,
    "deletable": true,
    "editable": true
   },
   "outputs": [
    {
     "data": {
      "text/html": [
       "<div>\n",
       "<style>\n",
       "    .dataframe thead tr:only-child th {\n",
       "        text-align: right;\n",
       "    }\n",
       "\n",
       "    .dataframe thead th {\n",
       "        text-align: left;\n",
       "    }\n",
       "\n",
       "    .dataframe tbody tr th {\n",
       "        vertical-align: top;\n",
       "    }\n",
       "</style>\n",
       "<table border=\"1\" class=\"dataframe\">\n",
       "  <thead>\n",
       "    <tr style=\"text-align: right;\">\n",
       "      <th></th>\n",
       "      <th>original_title</th>\n",
       "      <th>overview</th>\n",
       "    </tr>\n",
       "  </thead>\n",
       "  <tbody>\n",
       "    <tr>\n",
       "      <th>15511</th>\n",
       "      <td>Batman: Under the Red Hood</td>\n",
       "      <td>Batman faces his ultimate challenge as the mys...</td>\n",
       "    </tr>\n",
       "    <tr>\n",
       "      <th>3095</th>\n",
       "      <td>Batman: Mask of the Phantasm</td>\n",
       "      <td>An old flame of Bruce Wayne's strolls into tow...</td>\n",
       "    </tr>\n",
       "    <tr>\n",
       "      <th>18139</th>\n",
       "      <td>Batman and Robin</td>\n",
       "      <td>This 15-chapter serial pits Batman and Robin a...</td>\n",
       "    </tr>\n",
       "    <tr>\n",
       "      <th>41983</th>\n",
       "      <td>Batman: Strange Days</td>\n",
       "      <td>Celebrating Batman’s 75th anniversary, DC Ente...</td>\n",
       "    </tr>\n",
       "    <tr>\n",
       "      <th>43779</th>\n",
       "      <td>Batman &amp; Bill</td>\n",
       "      <td>Everyone thinks that Bob Kane created Batman, ...</td>\n",
       "    </tr>\n",
       "    <tr>\n",
       "      <th>20232</th>\n",
       "      <td>Batman: The Dark Knight Returns, Part 2</td>\n",
       "      <td>Batman has stopped the reign of terror that Th...</td>\n",
       "    </tr>\n",
       "    <tr>\n",
       "      <th>1328</th>\n",
       "      <td>Batman Returns</td>\n",
       "      <td>Having defeated the Joker, Batman now faces th...</td>\n",
       "    </tr>\n",
       "    <tr>\n",
       "      <th>21194</th>\n",
       "      <td>Batman Unmasked: The Psychology of the Dark Kn...</td>\n",
       "      <td>Delve into the world of Batman and the vigilan...</td>\n",
       "    </tr>\n",
       "    <tr>\n",
       "      <th>40974</th>\n",
       "      <td>LEGO DC Comics Super Heroes: Batman: Be-Leaguered</td>\n",
       "      <td>Superman wants Batman to join his new superher...</td>\n",
       "    </tr>\n",
       "    <tr>\n",
       "      <th>41982</th>\n",
       "      <td>Batman Beyond Darwyn Cooke's Batman 75th Anniv...</td>\n",
       "      <td>Terry faces off against a much younger Batman</td>\n",
       "    </tr>\n",
       "  </tbody>\n",
       "</table>\n",
       "</div>"
      ],
      "text/plain": [
       "                                          original_title  \\\n",
       "15511                         Batman: Under the Red Hood   \n",
       "3095                        Batman: Mask of the Phantasm   \n",
       "18139                                   Batman and Robin   \n",
       "41983                               Batman: Strange Days   \n",
       "43779                                      Batman & Bill   \n",
       "20232            Batman: The Dark Knight Returns, Part 2   \n",
       "1328                                      Batman Returns   \n",
       "21194  Batman Unmasked: The Psychology of the Dark Kn...   \n",
       "40974  LEGO DC Comics Super Heroes: Batman: Be-Leaguered   \n",
       "41982  Batman Beyond Darwyn Cooke's Batman 75th Anniv...   \n",
       "\n",
       "                                                overview  \n",
       "15511  Batman faces his ultimate challenge as the mys...  \n",
       "3095   An old flame of Bruce Wayne's strolls into tow...  \n",
       "18139  This 15-chapter serial pits Batman and Robin a...  \n",
       "41983  Celebrating Batman’s 75th anniversary, DC Ente...  \n",
       "43779  Everyone thinks that Bob Kane created Batman, ...  \n",
       "20232  Batman has stopped the reign of terror that Th...  \n",
       "1328   Having defeated the Joker, Batman now faces th...  \n",
       "21194  Delve into the world of Batman and the vigilan...  \n",
       "40974  Superman wants Batman to join his new superher...  \n",
       "41982      Terry faces off against a much younger Batman  "
      ]
     },
     "execution_count": 160,
     "metadata": {},
     "output_type": "execute_result"
    }
   ],
   "source": [
    "movies = movieList(\"batman\")\n",
    "movies"
   ]
  },
  {
   "cell_type": "code",
   "execution_count": 170,
   "metadata": {
    "collapsed": false,
    "deletable": true,
    "editable": true
   },
   "outputs": [],
   "source": [
    "import json"
   ]
  },
  {
   "cell_type": "code",
   "execution_count": 165,
   "metadata": {
    "collapsed": false
   },
   "outputs": [
    {
     "ename": "TypeError",
     "evalue": "string indices must be integers",
     "output_type": "error",
     "traceback": [
      "\u001b[1;31m---------------------------------------------------------------------------\u001b[0m",
      "\u001b[1;31mTypeError\u001b[0m                                 Traceback (most recent call last)",
      "\u001b[1;32m<ipython-input-165-f1cdc7eec0e9>\u001b[0m in \u001b[0;36m<module>\u001b[1;34m()\u001b[0m\n\u001b[0;32m      2\u001b[0m \u001b[1;32mfor\u001b[0m \u001b[0mmovie\u001b[0m \u001b[1;32min\u001b[0m \u001b[0mmovies\u001b[0m\u001b[1;33m:\u001b[0m\u001b[1;33m\u001b[0m\u001b[0m\n\u001b[0;32m      3\u001b[0m     movieDict = {\n\u001b[1;32m----> 4\u001b[1;33m         \u001b[1;34m'Title'\u001b[0m\u001b[1;33m:\u001b[0m \u001b[0mmovie\u001b[0m\u001b[1;33m[\u001b[0m\u001b[1;34m'original_title'\u001b[0m\u001b[1;33m]\u001b[0m\u001b[1;33m,\u001b[0m\u001b[1;33m\u001b[0m\u001b[0m\n\u001b[0m\u001b[0;32m      5\u001b[0m         'Overview': movie['overview']}\n\u001b[0;32m      6\u001b[0m     \u001b[0mmList\u001b[0m\u001b[1;33m.\u001b[0m\u001b[0mappend\u001b[0m\u001b[1;33m(\u001b[0m\u001b[0mmovieDict\u001b[0m\u001b[1;33m)\u001b[0m\u001b[1;33m\u001b[0m\u001b[0m\n",
      "\u001b[1;31mTypeError\u001b[0m: string indices must be integers"
     ]
    }
   ],
   "source": [
    "mList = []\n",
    "for movie in movies:\n",
    "    movieDict = {\n",
    "        'Title': movie[0],\n",
    "        'Overview': movie['overview']}\n",
    "    mList.append(movieDict)\n",
    "return json.dumps(mList)"
   ]
  },
  {
   "cell_type": "code",
   "execution_count": null,
   "metadata": {
    "collapsed": true
   },
   "outputs": [],
   "source": [
    "movie_name = []\n",
    "movie_description = []\n",
    "retrive_data = {}\n",
    "for result_index in range(5):\n",
    "    movie_name.append(self.MovieData.loc[self.sorted_similarity[result_index],'title'])\n",
    "    movie_description.append(self.MovieData.loc[self.sorted_similarity[result_index],'overview'])\n",
    "    retrive_data.update({\"Movie\":movie_name})\n",
    "    retrive_data.update({\"Description\": movie_description})\n",
    "    return  retrive_data"
   ]
  }
 ],
 "metadata": {
  "kernelspec": {
   "display_name": "Python 3",
   "language": "python",
   "name": "python3"
  },
  "language_info": {
   "codemirror_mode": {
    "name": "ipython",
    "version": 3
   },
   "file_extension": ".py",
   "mimetype": "text/x-python",
   "name": "python",
   "nbconvert_exporter": "python",
   "pygments_lexer": "ipython3",
   "version": "3.5.2"
  }
 },
 "nbformat": 4,
 "nbformat_minor": 2
}
